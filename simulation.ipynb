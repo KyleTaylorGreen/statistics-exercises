{
 "cells": [
  {
   "cell_type": "code",
   "execution_count": 125,
   "id": "bc397a0d",
   "metadata": {},
   "outputs": [],
   "source": [
    "import pandas as pd\n",
    "import numpy as np\n",
    "import math"
   ]
  },
  {
   "cell_type": "code",
   "execution_count": 40,
   "id": "736f1f4e",
   "metadata": {},
   "outputs": [
    {
     "name": "stdout",
     "output_type": "stream",
     "text": [
      "[1, 2, 3, 4, 5, 6]\n",
      "0.16601\n"
     ]
    }
   ],
   "source": [
    "# How likely is it that you roll doubles when rolling two dice?\n",
    "\n",
    "\n",
    "nrows = 100000\n",
    "n_dice = ncols = 2\n",
    "dice_sides = 6\n",
    "sided_dice = list(range(1, 1 + dice_sides))\n",
    "\n",
    "print(sided_dice)\n",
    "random_rolls = np.random.choice(sided_dice, nrows * n_dice).reshape(nrows, ncols)\n",
    "rolls = pd.DataFrame(random_rolls)\n",
    "\n",
    "rolls = rolls.apply(lambda x: x[0] == x[1], axis =1)\n",
    "\n",
    "print(rolls.mean())"
   ]
  },
  {
   "cell_type": "code",
   "execution_count": 62,
   "id": "bc17ccac",
   "metadata": {},
   "outputs": [
    {
     "name": "stdout",
     "output_type": "stream",
     "text": [
      "   0  1  2  3  4  5  6  7\n",
      "0  1  1  1  1  0  1  0  0\n",
      "1  0  1  1  0  1  1  1  0\n",
      "2  1  1  0  1  0  1  0  1\n",
      "3  0  1  0  0  1  1  0  1\n",
      "4  0  1  1  0  0  0  0  1\n",
      "Percent probability for exactly 3 heads: 21.9%\n",
      "Percent probability for > 3 heads: 63.65%\n"
     ]
    }
   ],
   "source": [
    "# If you flip 8 coins, what is the probability of getting exactly 3 \n",
    "# heads? What is the probability of getting more than 3 heads?\n",
    "\n",
    "n_rows = 5000\n",
    "n_coins = ncols = 8\n",
    "coin = [0,1]  # heads == 1\n",
    "\n",
    "flips = pd.DataFrame(np.random.choice(coin, nrows * ncols).reshape(nrows, ncols))\n",
    "\n",
    "\n",
    "probability = flips.apply(lambda x: x.sum() == 3, axis=1).mean()\n",
    "print(f'Percent probability for exactly 3 heads: {round(probability * 100, 2)}%')\n",
    "\n",
    "probability = flips.apply(lambda x: x.sum() > 3, axis=1).mean()\n",
    "print(f'Percent probability for > 3 heads: {round(probability * 100, 2)}%')\n"
   ]
  },
  {
   "cell_type": "code",
   "execution_count": 74,
   "id": "a3724412",
   "metadata": {},
   "outputs": [
    {
     "name": "stdout",
     "output_type": "stream",
     "text": [
      "0.0646\n",
      "0.0625\n"
     ]
    }
   ],
   "source": [
    "# 3: There are approximitely 3 web development cohorts for every 1 \n",
    "# data science cohort at Codeup. Assuming that Codeup randomly selects \n",
    "# an alumni to put on a billboard, what are the odds that the two \n",
    "# billboards I drive past both have data science students on them?\n",
    "\n",
    "web_dev = 0.75\n",
    "ds_stud = 0.25\n",
    "\n",
    "billboards = 2\n",
    "nrows = 10000\n",
    "random_array = np.random.random([nrows, billboards])\n",
    "random_array = random_array < .25\n",
    "both_ds = random_array.sum(axis=1) == 2\n",
    "both_ds.mean()\n"
   ]
  },
  {
   "cell_type": "code",
   "execution_count": 94,
   "id": "2c40452c",
   "metadata": {},
   "outputs": [
    {
     "name": "stdout",
     "output_type": "stream",
     "text": [
      "probability of at least 1 poptart: 61.84%\n"
     ]
    }
   ],
   "source": [
    "# 4: Codeup students buy, on average, 3 poptart packages with a \n",
    "# standard deviation of 1.5 a day from the snack vending machine. \n",
    "# If on monday the machine is restocked with 17 poptart packages, \n",
    "# how likely is it that I will be able to buy some poptarts on Friday \n",
    "# afternoon? (Remember, if you have mean and standard deviation, use \n",
    "# the np.random.normal)\n",
    "days = 5\n",
    "nrows = 10000\n",
    "\n",
    "poptart_dist = pd.DataFrame(np.random.normal(3, 1.5, (nrows, days)))\n",
    "poptart_dist.apply(lambda x: x.sum() <= 16, axis=1)\n",
    "\n",
    "probability_of_poptart = poptart_dist.apply(lambda x: x.sum() <= 16, axis=1).mean()\n",
    "print(f'probability of at least 1 poptart: {round(probability_of_poptart * 100,2)}%')"
   ]
  },
  {
   "cell_type": "code",
   "execution_count": 96,
   "id": "5820ba8d",
   "metadata": {},
   "outputs": [
    {
     "name": "stdout",
     "output_type": "stream",
     "text": [
      "Probability of rand woman being taller than rand male: 21.25%\n"
     ]
    }
   ],
   "source": [
    "# 5: Compare Heights\n",
    "\n",
    "# - Men have an average height of 178 cm and standard deviation of 8cm.\n",
    "# - Women have a mean of 170, sd = 6cm.\n",
    "\n",
    "# Since you have means and standard deviations, you can use \n",
    "# np.random.normal to generate observations. If a man and woman are \n",
    "# chosen at random, what is the likelihood the woman is taller than \n",
    "# the man?\n",
    "nrows = 100000\n",
    "\n",
    "rand_women = np.random.normal(170, 6, (nrows))\n",
    "rand_man = np.random.normal(178, 8, (nrows))\n",
    "\n",
    "stacked = pd.DataFrame(np.stack((rand_man, rand_women), axis=1))\n",
    "prob_woman_taller = stacked.apply(lambda x: x[1] > x[0], axis=1).mean()\n",
    "prob_woman_taller\n",
    "\n",
    "print(f\"Probability of rand woman being taller than rand male: {round(prob_woman_taller * 100, 2)}%\")\n",
    "\n",
    "\n"
   ]
  },
  {
   "cell_type": "code",
   "execution_count": 111,
   "id": "94d72d5d",
   "metadata": {},
   "outputs": [
    {
     "name": "stdout",
     "output_type": "stream",
     "text": [
      "prob of no issues within 50 students: 81.991%\n",
      "prob of no issues within 100 students: 66.867%\n",
      "prob of having an issue within 150 students: 45.190999999999995%\n",
      "prob of having no issues within 450 students: 16.715000000000003%\n"
     ]
    }
   ],
   "source": [
    "# 6: When installing anaconda on a student's computer, there's a 1 in \n",
    "# 250 chance that the download is corrupted and the installation fails. \n",
    "# What are the odds that after having 50 students download anaconda, \n",
    "# no one has an installation issue? 100 students?\n",
    "\n",
    "def issue_within_n_students(nstudents, nrows= 100000,corrupt_chance= 1/250, noissue=False):\n",
    "    batches_of_students = pd.DataFrame(np.random.random([nrows, nstudents]))\n",
    "    is_corrupt = batches_of_students.apply(lambda x: x < corrupt_chance, axis=1)\n",
    "    if noissue:\n",
    "        return 1 - is_corrupt.apply(lambda x: x.mean() > 0, axis=1).mean()\n",
    "    else:\n",
    "    \n",
    "        return is_corrupt.apply(lambda x: x.mean() > 0, axis=1).mean()\n",
    "\n",
    "print(f'prob of no issues within 50 students: {issue_within_n_students(50, noissue=True)*100}%')\n",
    "print(f'prob of no issues within 100 students: {issue_within_n_students(100, noissue=True)*100}%')\n",
    "      \n",
    "# What is the probability that we observe an installation issue within \n",
    "# the first 150 students that download anaconda?\n",
    "\n",
    "print(f'prob of having an issue within 150 students: {issue_within_n_students(150)*100}%')\n",
    "\n",
    "\n",
    "\n",
    "# How likely is it that 450 students all download anaconda without an issue?\n",
    "\n",
    "print(f'prob of having no issues within 450 students: {issue_within_n_students(450, noissue=True)*100}%')"
   ]
  },
  {
   "cell_type": "code",
   "execution_count": 124,
   "id": "47b58968",
   "metadata": {},
   "outputs": [
    {
     "name": "stdout",
     "output_type": "stream",
     "text": [
      "97.19\n",
      "0.9996\n"
     ]
    }
   ],
   "source": [
    "# 7: There's a 70% chance on any given day that there will be at least \n",
    "# one food truck at Travis Park. However, you haven't seen a food truck\n",
    "# there in 3 days. How unlikely is this?\n",
    "\n",
    "days = 3\n",
    "nrows = 10000\n",
    "\n",
    "random_values = pd.DataFrame(np.random.random([nrows, days]))\n",
    "our_filter = random_values.apply(lambda x: x > .7, axis = 1)\n",
    "three_days_no_food_truck = our_filter.apply(lambda x: x.sum() == 3, axis=1).mean()\n",
    "answer = (1 - three_days_no_food_truck) * 100\n",
    "print(answer)\n",
    "\n",
    "# How likely is it that a food truck will show up sometime this week?\n",
    "\n",
    "days = 7\n",
    "nrows = 10000\n",
    "\n",
    "random_values = pd.DataFrame(np.random.random([nrows, days]))\n",
    "our_filter = random_values.apply(lambda x: x < .7, axis = 1)\n",
    "some_day_this_week = our_filter.apply(lambda x: x.sum() > 0, axis=1).mean()\n",
    "print(some_day_this_week)"
   ]
  },
  {
   "cell_type": "code",
   "execution_count": 179,
   "id": "6dc0877a",
   "metadata": {},
   "outputs": [
    {
     "name": "stdout",
     "output_type": "stream",
     "text": [
      "0.5004771540365807\n",
      "0.4062294594924657\n",
      "0.8823356309842172\n",
      "0.510025\n",
      "0.4139\n",
      "0.888725\n"
     ]
    }
   ],
   "source": [
    "# 8: If 23 people are in the same room, what are the odds that two of \n",
    "# them share a birthday? What if it's 20 people? 40?\n",
    "\n",
    "ncols = npeople = 23\n",
    "def chance_to_share_bday(n=23):\n",
    "    pairs = n * (n-1) / 2\n",
    "    per_chance = (364/365)**pairs\n",
    "\n",
    "    print(1 - per_chance)\n",
    "    return 1 - per_chance\n",
    "\n",
    "# 23 people\n",
    "chance_to_share_bday()\n",
    "\n",
    "# 20 people\n",
    "chance_to_share_bday(n=20)\n",
    "\n",
    "# 40 people\n",
    "chance_to_share_bday(n=40)\n",
    "\n",
    "def chance_bday_numbers(nppl=23, nrows=40000):\n",
    "    bdays = pd.DataFrame(np.random.choice(list(range(1,366)), (nrows, nppl)))\n",
    "    bdays = bdays.apply(lambda x: x.nunique() < len(x), axis=1)\n",
    "    return bdays.mean()  \n",
    "\n",
    "print(chance_bday_numbers(23))\n",
    "print(chance_bday_numbers(20))\n",
    "print(chance_bday_numbers(40))\n",
    "    \n",
    "    \n",
    "\n"
   ]
  },
  {
   "cell_type": "code",
   "execution_count": null,
   "id": "d4587f15",
   "metadata": {},
   "outputs": [],
   "source": []
  }
 ],
 "metadata": {
  "kernelspec": {
   "display_name": "Python 3 (ipykernel)",
   "language": "python",
   "name": "python3"
  },
  "language_info": {
   "codemirror_mode": {
    "name": "ipython",
    "version": 3
   },
   "file_extension": ".py",
   "mimetype": "text/x-python",
   "name": "python",
   "nbconvert_exporter": "python",
   "pygments_lexer": "ipython3",
   "version": "3.9.7"
  }
 },
 "nbformat": 4,
 "nbformat_minor": 5
}
