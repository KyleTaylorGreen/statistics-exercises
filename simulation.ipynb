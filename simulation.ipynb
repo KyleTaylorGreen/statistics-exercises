{
 "cells": [
  {
   "cell_type": "code",
   "execution_count": 2,
   "id": "5056741b",
   "metadata": {},
   "outputs": [],
   "source": [
    "import pandas as pd\n",
    "import numpy as np\n",
    "import math"
   ]
  },
  {
   "cell_type": "code",
   "execution_count": 40,
   "id": "ad7002de",
   "metadata": {},
   "outputs": [
    {
     "name": "stdout",
     "output_type": "stream",
     "text": [
      "[1, 2, 3, 4, 5, 6]\n",
      "0.16601\n"
     ]
    }
   ],
   "source": [
    "# How likely is it that you roll doubles when rolling two dice?\n",
    "\n",
    "\n",
    "nrows = 100000\n",
    "n_dice = ncols = 2\n",
    "dice_sides = 6\n",
    "sided_dice = list(range(1, 1 + dice_sides))\n",
    "\n",
    "print(sided_dice)\n",
    "random_rolls = np.random.choice(sided_dice, nrows * n_dice).reshape(nrows, ncols)\n",
    "rolls = pd.DataFrame(random_rolls)\n",
    "\n",
    "rolls = rolls.apply(lambda x: x[0] == x[1], axis =1)\n",
    "\n",
    "print(rolls.mean())"
   ]
  },
  {
   "cell_type": "code",
   "execution_count": 62,
   "id": "e148697d",
   "metadata": {},
   "outputs": [
    {
     "name": "stdout",
     "output_type": "stream",
     "text": [
      "   0  1  2  3  4  5  6  7\n",
      "0  1  1  1  1  0  1  0  0\n",
      "1  0  1  1  0  1  1  1  0\n",
      "2  1  1  0  1  0  1  0  1\n",
      "3  0  1  0  0  1  1  0  1\n",
      "4  0  1  1  0  0  0  0  1\n",
      "Percent probability for exactly 3 heads: 21.9%\n",
      "Percent probability for > 3 heads: 63.65%\n"
     ]
    }
   ],
   "source": [
    "# If you flip 8 coins, what is the probability of getting exactly 3 \n",
    "# heads? What is the probability of getting more than 3 heads?\n",
    "\n",
    "n_rows = 5000\n",
    "n_coins = ncols = 8\n",
    "coin = [0,1]  # heads == 1\n",
    "\n",
    "flips = pd.DataFrame(np.random.choice(coin, nrows * ncols).reshape(nrows, ncols))\n",
    "\n",
    "\n",
    "probability = flips.apply(lambda x: x.sum() == 3, axis=1).mean()\n",
    "print(f'Percent probability for exactly 3 heads: {round(probability * 100, 2)}%')\n",
    "\n",
    "probability = flips.apply(lambda x: x.sum() > 3, axis=1).mean()\n",
    "print(f'Percent probability for > 3 heads: {round(probability * 100, 2)}%')\n"
   ]
  },
  {
   "cell_type": "code",
   "execution_count": 74,
   "id": "b154cc27",
   "metadata": {},
   "outputs": [
    {
     "name": "stdout",
     "output_type": "stream",
     "text": [
      "0.0646\n",
      "0.0625\n"
     ]
    }
   ],
   "source": [
    "# 3: There are approximitely 3 web development cohorts for every 1 \n",
    "# data science cohort at Codeup. Assuming that Codeup randomly selects \n",
    "# an alumni to put on a billboard, what are the odds that the two \n",
    "# billboards I drive past both have data science students on them?\n",
    "\n",
    "web_dev = 0.75\n",
    "ds_stud = 0.25\n",
    "\n",
    "billboards = 2\n",
    "nrows = 10000\n",
    "random_array = np.random.random([nrows, billboards])\n",
    "random_array = random_array < .25\n",
    "both_ds = random_array.sum(axis=1) == 2\n",
    "both_ds.mean()\n"
   ]
  },
  {
   "cell_type": "code",
   "execution_count": 94,
   "id": "5d39d8ff",
   "metadata": {},
   "outputs": [
    {
     "name": "stdout",
     "output_type": "stream",
     "text": [
      "probability of at least 1 poptart: 61.84%\n"
     ]
    }
   ],
   "source": [
    "# 4: Codeup students buy, on average, 3 poptart packages with a \n",
    "# standard deviation of 1.5 a day from the snack vending machine. \n",
    "# If on monday the machine is restocked with 17 poptart packages, \n",
    "# how likely is it that I will be able to buy some poptarts on Friday \n",
    "# afternoon? (Remember, if you have mean and standard deviation, use \n",
    "# the np.random.normal)\n",
    "days = 5\n",
    "nrows = 10000\n",
    "\n",
    "poptart_dist = pd.DataFrame(np.random.normal(3, 1.5, (nrows, days)))\n",
    "poptart_dist.apply(lambda x: x.sum() <= 16, axis=1)\n",
    "\n",
    "probability_of_poptart = poptart_dist.apply(lambda x: x.sum() <= 16, axis=1).mean()\n",
    "print(f'probability of at least 1 poptart: {round(probability_of_poptart * 100,2)}%')"
   ]
  },
  {
   "cell_type": "code",
   "execution_count": 96,
   "id": "14bbc790",
   "metadata": {},
   "outputs": [
    {
     "name": "stdout",
     "output_type": "stream",
     "text": [
      "Probability of rand woman being taller than rand male: 21.25%\n"
     ]
    }
   ],
   "source": [
    "# 5: Compare Heights\n",
    "\n",
    "# - Men have an average height of 178 cm and standard deviation of 8cm.\n",
    "# - Women have a mean of 170, sd = 6cm.\n",
    "\n",
    "# Since you have means and standard deviations, you can use \n",
    "# np.random.normal to generate observations. If a man and woman are \n",
    "# chosen at random, what is the likelihood the woman is taller than \n",
    "# the man?\n",
    "nrows = 100000\n",
    "\n",
    "rand_women = np.random.normal(170, 6, (nrows))\n",
    "rand_man = np.random.normal(178, 8, (nrows))\n",
    "\n",
    "stacked = pd.DataFrame(np.stack((rand_man, rand_women), axis=1))\n",
    "prob_woman_taller = stacked.apply(lambda x: x[1] > x[0], axis=1).mean()\n",
    "prob_woman_taller\n",
    "\n",
    "print(f\"Probability of rand woman being taller than rand male: {round(prob_woman_taller * 100, 2)}%\")\n",
    "\n",
    "\n"
   ]
  },
  {
   "cell_type": "code",
   "execution_count": 111,
   "id": "88a2de6b",
   "metadata": {},
   "outputs": [
    {
     "name": "stdout",
     "output_type": "stream",
     "text": [
      "prob of no issues within 50 students: 81.991%\n",
      "prob of no issues within 100 students: 66.867%\n",
      "prob of having an issue within 150 students: 45.190999999999995%\n",
      "prob of having no issues within 450 students: 16.715000000000003%\n"
     ]
    }
   ],
   "source": [
    "# 6: When installing anaconda on a student's computer, there's a 1 in \n",
    "# 250 chance that the download is corrupted and the installation fails. \n",
    "# What are the odds that after having 50 students download anaconda, \n",
    "# no one has an installation issue? 100 students?\n",
    "\n",
    "def issue_within_n_students(nstudents, nrows= 100000,corrupt_chance= 1/250, noissue=False):\n",
    "    batches_of_students = pd.DataFrame(np.random.random([nrows, nstudents]))\n",
    "    is_corrupt = batches_of_students.apply(lambda x: x < corrupt_chance, axis=1)\n",
    "    if noissue:\n",
    "        return 1 - is_corrupt.apply(lambda x: x.mean() > 0, axis=1).mean()\n",
    "    else:\n",
    "    \n",
    "        return is_corrupt.apply(lambda x: x.mean() > 0, axis=1).mean()\n",
    "\n",
    "print(f'prob of no issues within 50 students: {issue_within_n_students(50, noissue=True)*100}%')\n",
    "print(f'prob of no issues within 100 students: {issue_within_n_students(100, noissue=True)*100}%')\n",
    "      \n",
    "# What is the probability that we observe an installation issue within \n",
    "# the first 150 students that download anaconda?\n",
    "\n",
    "print(f'prob of having an issue within 150 students: {issue_within_n_students(150)*100}%')\n",
    "\n",
    "\n",
    "\n",
    "# How likely is it that 450 students all download anaconda without an issue?\n",
    "\n",
    "print(f'prob of having no issues within 450 students: {issue_within_n_students(450, noissue=True)*100}%')"
   ]
  },
  {
   "cell_type": "code",
   "execution_count": 124,
   "id": "1bf65a89",
   "metadata": {},
   "outputs": [
    {
     "name": "stdout",
     "output_type": "stream",
     "text": [
      "97.19\n",
      "0.9996\n"
     ]
    }
   ],
   "source": [
    "# 7: There's a 70% chance on any given day that there will be at least \n",
    "# one food truck at Travis Park. However, you haven't seen a food truck\n",
    "# there in 3 days. How unlikely is this?\n",
    "\n",
    "days = 3\n",
    "nrows = 10000\n",
    "\n",
    "random_values = pd.DataFrame(np.random.random([nrows, days]))\n",
    "our_filter = random_values.apply(lambda x: x > .7, axis = 1)\n",
    "three_days_no_food_truck = our_filter.apply(lambda x: x.sum() == 3, axis=1).mean()\n",
    "answer = (1 - three_days_no_food_truck) * 100\n",
    "print(answer)\n",
    "\n",
    "# How likely is it that a food truck will show up sometime this week?\n",
    "\n",
    "days = 7\n",
    "nrows = 10000\n",
    "\n",
    "random_values = pd.DataFrame(np.random.random([nrows, days]))\n",
    "our_filter = random_values.apply(lambda x: x < .7, axis = 1)\n",
    "some_day_this_week = our_filter.apply(lambda x: x.sum() > 0, axis=1).mean()\n",
    "print(some_day_this_week)"
   ]
  },
  {
   "cell_type": "code",
   "execution_count": null,
   "id": "9f12f807",
   "metadata": {},
   "outputs": [],
   "source": [
    "# 8: If 23 people are in the same room, what are the odds that two of \n",
    "# them share a birthday? What if it's 20 people? 40?\n",
    "\n",
    "ncols = npeople = 23\n",
    "def chance_to_share_bday(n=23):\n",
    "    pairs = n * (n-1) / 2\n",
    "    per_chance = (364/365)**pairs\n",
    "\n",
    "    print(1 - per_chance)\n",
    "    return 1 - per_chance\n",
    "\n",
    "# 23 people\n",
    "print(chance_to_share_bday())\n",
    "\n",
    "# 20 people\n",
    "print(chance_to_share_bday(n=20))\n",
    "\n",
    "# 40 people\n",
    "print(chance_to_share_bday(n=40))\n",
    "\n",
    "def chance_bday_numbers(nppl=23, nrows=40000):\n",
    "    bdays = pd.DataFrame(np.random.choice(list(range(1,365)), (nrows, nppl)))\n",
    "    bdays = bdays.apply(lambda x: x.nunique() < len(x), axis=1)\n",
    "    return bdays.mean()  \n",
    "\n",
    "print(chance_bday_numbers())\n",
    "print(chance_bday_numbers(20))\n",
    "print(chance_bday_numbers(40))\n",
    "    \n",
    "    \n",
    "\n"
   ]
  },
  {
   "cell_type": "code",
   "execution_count": 80,
   "id": "8ee68ddb",
   "metadata": {},
   "outputs": [
    {
     "name": "stdout",
     "output_type": "stream",
     "text": [
      "   name mage_h mage_a enemy_name enemy_h enemy_a   wins  draws  losses  \\\n",
      "0  Kyle    6d4    6d4       Fred     4d6     4d6      4      5       1   \n",
      "1  Kyle    6d4    6d4       Fred     4d6     4d6     23     52      25   \n",
      "2  Kyle    6d4    6d4       Fred     4d6     4d6   3374   4906    1720   \n",
      "3  Kyle    6d4    6d4       Fred     4d6     4d6  34167  48804   17029   \n",
      "4  Kyle    6d4    6d4       Ryan     9d9     9d9      0      2    9998   \n",
      "\n",
      "   battles  \n",
      "0       10  \n",
      "1      100  \n",
      "2    10000  \n",
      "3   100000  \n",
      "4    10000  \n",
      "   name mage_h mage_a enemy_name enemy_h enemy_a   wins  draws  losses  \\\n",
      "0  Fred    4d6    4d6       Kyle     6d4     6d4      1      5       4   \n",
      "1  Fred    4d6    4d6       Kyle     6d4     6d4     25     52      23   \n",
      "2  Fred    4d6    4d6       Kyle     6d4     6d4   1720   4906    3374   \n",
      "3  Fred    4d6    4d6       Kyle     6d4     6d4  17029  48804   34167   \n",
      "4  Fred    4d6    4d6       Ryan     9d9     9d9      0      0    1000   \n",
      "\n",
      "   battles  \n",
      "0       10  \n",
      "1      100  \n",
      "2    10000  \n",
      "3   100000  \n",
      "4     1000  \n",
      "   name mage_h mage_a enemy_name enemy_h enemy_a  wins  draws  losses  battles\n",
      "0  Ryan    9d9    9d9       Kyle     6d4     6d4  9998      2       0    10000\n",
      "1  Ryan    9d9    9d9       Fred     4d6     4d6  1000      0       0     1000\n"
     ]
    },
    {
     "data": {
      "text/plain": [
       "'ANSWER: We clearly win more than we lose'"
      ]
     },
     "execution_count": 80,
     "metadata": {},
     "output_type": "execute_result"
    }
   ],
   "source": [
    "\"\"\"\n",
    "Let's use what we've learned to play a mage duel!\n",
    "\n",
    "Imagine your wizard has 6d4 health points and you have spells that do \n",
    "6d4 damage. \"6d4\" means rolling six 4-sided dice and summing the result.\n",
    "\n",
    "Your opposing mage has 4d6 health points and spells that do 4d6. \"4d6\"\n",
    "means rolling four six-sided dice and summing the result.\n",
    "\n",
    "\"\"\"\n",
    "\n",
    "# 1: Before running simulations, do you have a hypothesis of which mage\n",
    "# will win? Do you have a hunch? Write it down. This is your first \n",
    "# exercise.\n",
    "\n",
    "#ANSWER: I think the opposing mage will win\n",
    "\n",
    "# 2: Simulate 10 mage duels. Is there a clear winner? Run that 10 duel \n",
    "# simulation again. Was the answer similar?\n",
    "\n",
    "\n",
    "def make_column_headers(input_string, n):\n",
    "    my_list = [f'{input_string[0]}{str(x)}' for x in n]\n",
    "    return my_list\n",
    "    \n",
    "\n",
    "class Mage:\n",
    "    \n",
    "    def __init__(self, name, health_stat, attack_stat):\n",
    "        # mage's name\n",
    "        self.name = name\n",
    "        \n",
    "        # initializing base stat strings\n",
    "        self.health = health_stat\n",
    "        self.attack = attack_stat\n",
    "        \n",
    "        # describes number of health dice, number of sides on health dice\n",
    "        self.dice_sides_health = list(range(1, int(health_stat[-1])+1))\n",
    "        self.n_dice_health = list(range(1, int(health_stat[0])+1))\n",
    "        \n",
    "        # describes number of attack dice, number of sides on attack dice\n",
    "        self.dice_sides_attack = list(range(1, int(attack_stat[-1])+1))\n",
    "        self.n_dice_attack = list(range(1, int(attack_stat[0])+1))\n",
    "        \n",
    "        # initiate variables\n",
    "        self.health_rolls = pd.DataFrame()\n",
    "        self.attack_rolls = pd.DataFrame()\n",
    "        self.n_duels = 0\n",
    "        self.results = pd.DataFrame()\n",
    "        \n",
    "        # a record of all outcomes for all mage battles\n",
    "        self.battle_history = pd.DataFrame()\n",
    "        self.all_data = pd.DataFrame()\n",
    "        self.mages = []\n",
    "        \n",
    "        # most recent battle\n",
    "        self.last_battle = pd.DataFrame()\n",
    "    \n",
    "    def duel_a_mage(self, a_mage, n_duels):\n",
    "        \n",
    "        self.n_duels = n_duels\n",
    "        \n",
    "        # create our own health/attack rolls\n",
    "        self.health_rolls = pd.DataFrame(np.random.choice((self.dice_sides_health), (n_duels, len(self.n_dice_health))), columns=make_column_headers('health', self.n_dice_health)).sum(axis=1)\n",
    "        self.attack_rolls = pd.DataFrame(np.random.choice((self.dice_sides_attack), (n_duels, len(self.n_dice_attack))), columns=make_column_headers('attack', self.n_dice_attack)).sum(axis=1)\n",
    "        \n",
    "        # create opponents health/attack rolls\n",
    "        a_mage.health_rolls = pd.DataFrame(np.random.choice((a_mage.dice_sides_health), (n_duels, len(a_mage.n_dice_health)))).sum(axis=1)\n",
    "        a_mage.attack_rolls = pd.DataFrame(np.random.choice((a_mage.dice_sides_attack), (n_duels, len(a_mage.n_dice_attack)))).sum(axis=1)\n",
    "        \n",
    "        # results of our mage when fighting another mage\n",
    "        self.results = pd.DataFrame(columns=['kills', 'dies'])\n",
    "        self.results.kills = np.where(self.attack_rolls > a_mage.health_rolls, True, False)\n",
    "        self.results.dies = np.where(self.health_rolls < a_mage.attack_rolls, True, False)\n",
    "        \n",
    "        # make list of mages the opponent pairs\n",
    "        self.mages = [self, a_mage]\n",
    "        a_mage.mages = [a_mage, self]\n",
    "        \n",
    "        # make n_duels == to # of battles input by function call\n",
    "        a_mage.n_duels = n_duels\n",
    "        self.n_duels = n_duels\n",
    "        \n",
    "        \n",
    "        # last battle is most recent battle\n",
    "        self.last_battle = self.make_results()\n",
    "        \n",
    "        return self.last_battle\n",
    "    \n",
    "        \n",
    "    def make_results(self):\n",
    "    \n",
    "        for n in range(0,2):\n",
    "            self.mages[n].results = pd.DataFrame(columns=['kills', 'dies'])\n",
    "            self.mages[n].results.kills = np.where(self.mages[n].attack_rolls > self.mages[n-1].health_rolls, True, False)\n",
    "            self.mages[n].results.dies = np.where(self.mages[n].health_rolls < self.mages[n-1].attack_rolls, True, False)\n",
    "\n",
    "            self.mages[n].results['wins'] = np.where((self.mages[n].results.kills == True) & (self.mages[n].results.dies == False), True, False).sum()\n",
    "            self.mages[n].results['draws'] = self.mages[n].results[['kills', 'dies']].apply(lambda x: sum(x) == 0 or sum(x) == 2, axis=1).sum()\n",
    "            self.mages[n].results['losses'] = np.where((self.mages[n].results.dies == True) & (self.mages[n].results.kills == False), True, False).sum()\n",
    "\n",
    "            self.mages[n].all_data = pd.DataFrame({'name': self.mages[n].name,\n",
    "                                                   'mage_h': self.mages[n].health, 'mage_a': self.mages[n].attack,\n",
    "                                                   'enemy_name': self.mages[n-1].name, 'enemy_h': self.mages[n-1].health, 'enemy_a': self.mages[n-1].attack,\n",
    "                                                   'wins': [self.mages[n].results.wins[0]], 'draws': [self.mages[n].results.draws[0]], \n",
    "                                                   'losses': [self.mages[n].results.losses[0]], 'battles': [self.n_duels]})\n",
    "            \n",
    "            self.mages[n].battle_history = pd.concat([self.mages[n].battle_history, self.mages[n].all_data], ignore_index=True)\n",
    "        \n",
    "        return self.results\n",
    "    \n",
    "    \n",
    "    def display_battle_history(self):\n",
    "        print(self.battle_history)\n",
    "    \n",
    "    \n",
    "my_mage = Mage('Kyle','6d4', '6d4')\n",
    "opponents_mage = Mage('Fred', '4d6', '4d6')\n",
    "Ryan = Mage('Ryan', '9d9', '9d9')\n",
    "\n",
    "my_mage.duel_a_mage(opponents_mage, 10)\n",
    "\n",
    "'''ANSWER: no clear winner, both times'''\n",
    "\n",
    "# 3: Do the results change much at 100 duels?\n",
    "\n",
    "my_mage.duel_a_mage(opponents_mage, 100)\n",
    "\n",
    "'''ANSWER: we seem to win more than we lose'''\n",
    "\n",
    "# 4: Now, simulate 10,000 mage duels. Is there a a clear winner?\n",
    "\n",
    "my_mage.duel_a_mage(opponents_mage, 10000)\n",
    "my_mage.duel_a_mage(opponents_mage, 100000)\n",
    "my_mage.duel_a_mage(Ryan, 10000)\n",
    "Ryan.duel_a_mage(opponents_mage, 1000)\n",
    "my_mage.display_battle_history()\n",
    "opponents_mage.display_battle_history()\n",
    "Ryan.display_battle_history()\n",
    "\n",
    "\n",
    "'''ANSWER: We clearly win more than we lose'''"
   ]
  },
  {
   "cell_type": "code",
   "execution_count": null,
   "id": "8c7d1b95",
   "metadata": {},
   "outputs": [],
   "source": []
  }
 ],
 "metadata": {
  "kernelspec": {
   "display_name": "Python 3 (ipykernel)",
   "language": "python",
   "name": "python3"
  },
  "language_info": {
   "codemirror_mode": {
    "name": "ipython",
    "version": 3
   },
   "file_extension": ".py",
   "mimetype": "text/x-python",
   "name": "python",
   "nbconvert_exporter": "python",
   "pygments_lexer": "ipython3",
   "version": "3.9.7"
  }
 },
 "nbformat": 4,
 "nbformat_minor": 5
}
