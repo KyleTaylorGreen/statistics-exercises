{
 "cells": [
  {
   "cell_type": "code",
   "execution_count": 96,
   "id": "0741b32b",
   "metadata": {},
   "outputs": [],
   "source": [
    "import pandas as pd\n",
    "import numpy as np\n",
    "from scipy import stats\n",
    "import matplotlib.pyplot as plt\n",
    "from env import get_db_url\n",
    "\n",
    "np.random.seed(123)"
   ]
  },
  {
   "cell_type": "code",
   "execution_count": 31,
   "id": "3a9e37c7",
   "metadata": {},
   "outputs": [
    {
     "data": {
      "image/png": "[encoded data removed]",
      "text/plain": [
       "<Figure size 432x288 with 1 Axes>"
      ]
     },
     "metadata": {
      "needs_background": "light"
     },
     "output_type": "display_data"
    },
    {
     "name": "stdout",
     "output_type": "stream",
     "text": [
      "prob of no cars: 13.53%\n",
      "prob of 3 or more cars: 32.33%\n",
      "prob of at least 1 car: 86.47%\n"
     ]
    }
   ],
   "source": [
    "\"\"\"A bank found that the average number of cars waiting during the noon \n",
    "hour at a drive-up window follows a Poisson distribution with a mean \n",
    "of 2 cars. Make a chart of this distribution and answer these \n",
    "questions concerning the probability of cars waiting at the drive-up \n",
    "window.\"\"\"\n",
    "\n",
    "car_dist = stats.poisson.rvs(2, size=1000)\n",
    "plt.hist(car_dist)\n",
    "plt.show()\n",
    "\n",
    "# What is the probability that no cars drive up in the noon hour?\n",
    "print(f'prob of no cars: {round(stats.poisson(2).pmf(0)*100, 2)}%')\n",
    "\n",
    "\n",
    "# What is the probability that 3 or more cars come through the \n",
    "# drive through?\n",
    "\n",
    "print(f'prob of 3 or more cars: {round(stats.poisson(2).sf(2)*100,2)}%')\n",
    "\n",
    "# How likely is it that the drive through gets at least 1 car?\n",
    "print(f'prob of at least 1 car: {round(stats.poisson(2).sf(0)*100, 2)}%')"
   ]
  },
  {
   "cell_type": "code",
   "execution_count": 65,
   "id": "7b70f6c8",
   "metadata": {},
   "outputs": [
    {
     "name": "stdout",
     "output_type": "stream",
     "text": [
      "GPA for top 5%: 3.49\n",
      "GPA for bottom 15%: 2.69\n",
      "<scipy.stats._distn_infrastructure.rv_frozen object at 0x7fa5dd81b460>\n",
      "0.0951662162594622\n",
      "gpa of 3.5 is top 95.22%\n"
     ]
    }
   ],
   "source": [
    "\n",
    "\"\"\"Grades of State University graduates are normally distributed with \n",
    "mean of 3.0 and a standard deviation of .3. Calculate the following:\"\"\"\n",
    "\n",
    "# What grade point average is required to be in the top 5% of the \n",
    "# graduating class?\n",
    "\n",
    "graduates = stats.norm(3, .3)\n",
    "top_five_per = graduates.ppf(.95)\n",
    "print(f'GPA for top 5%: {round(top_five_per, 2)}')\n",
    "\n",
    "# What GPA constitutes the bottom 15% of the class?\n",
    "bot_fifteen = graduates.ppf(.15)\n",
    "print(f'GPA for bottom 15%: {round(bot_fifteen, 2)}')\n",
    "\n",
    "# An eccentric alumnus left scholarship money for students in the \n",
    "# third decile from the bottom of their class. Determine the range of \n",
    "# the third decile. Would a student with a 2.8 grade point average \n",
    "# qualify for this scholarship?\n",
    "print(graduates)\n",
    "\n",
    "range_3rd_decile = graduates.ppf(.3) - graduates.ppf(.2)\n",
    "print(range_3rd_decile)\n",
    "\n",
    "# yes, a student with 2.8 gpa would qualify\n",
    "\n",
    "\n",
    "# If I have a GPA of 3.5, what percentile am I in?\n",
    "\n",
    "three_point_five = graduates.cdf(3.5)\n",
    "print(f'gpa of 3.5 is top {round(three_point_five* 100, 2)}%')\n",
    "\n",
    "\n"
   ]
  },
  {
   "cell_type": "code",
   "execution_count": 83,
   "id": "97e627fc",
   "metadata": {},
   "outputs": [
    {
     "name": "stdout",
     "output_type": "stream",
     "text": [
      "86.52\n",
      "97\n",
      "0.14211867659283192\n"
     ]
    },
    {
     "data": {
      "text/plain": [
       "(array([8125.,    0.,    0., 1703.,    0.,    0.,  160.,    0.,    0.,\n",
       "          12.]),\n",
       " array([0. , 0.3, 0.6, 0.9, 1.2, 1.5, 1.8, 2.1, 2.4, 2.7, 3. ]),\n",
       " <BarContainer object of 10 artists>)"
      ]
     },
     "execution_count": 83,
     "metadata": {},
     "output_type": "execute_result"
    },
    {
     "data": {
      "image/png": "[encoded data removed]",
      "text/plain": [
       "<Figure size 432x288 with 1 Axes>"
      ]
     },
     "metadata": {
      "needs_background": "light"
     },
     "output_type": "display_data"
    }
   ],
   "source": [
    "# A marketing website has an average click-through rate of 2%. One day \n",
    "# they observe 4326 visitors and 97 click-throughs. How likely is it \n",
    "# that this many people or more click through?\n",
    "\n",
    "click_through_dist = stats.poisson.rvs(.2, size=10000)\n",
    "click_thru = 97 \n",
    "expected_click_thru = .02 * 4326\n",
    "print(expected_click_thru)\n",
    "print(click_thru)\n",
    "\n",
    "print(stats.poisson(expected_click_thru).sf(click_thru-1))\n",
    "\n",
    "\n",
    "plt.hist(click_through_dist)"
   ]
  },
  {
   "cell_type": "code",
   "execution_count": 84,
   "id": "b7379e26",
   "metadata": {},
   "outputs": [
    {
     "data": {
      "text/plain": [
       "0.45284335760923855"
      ]
     },
     "execution_count": 84,
     "metadata": {},
     "output_type": "execute_result"
    }
   ],
   "source": [
    "\"\"\"You are working on some statistics homework consisting of 100 \n",
    "questions where all of the answers are a probability rounded to the \n",
    "hundreths place. Looking to save time, you put down random \n",
    "probabilities as the answer to each question.\n",
    "\"\"\"\n",
    "\n",
    "# What is the probability that at least one of your first 60 answers  \n",
    "# is correct?\n",
    "\n",
    "stats.binom(60, .01).sf(0)\n"
   ]
  },
  {
   "cell_type": "code",
   "execution_count": 90,
   "id": "13b22c11",
   "metadata": {},
   "outputs": [
    {
     "name": "stdout",
     "output_type": "stream",
     "text": [
      "0.8362274861228872\n",
      "0.16377251387711275\n",
      "0.026821436301629083\n",
      "0.00011781621791055166\n"
     ]
    }
   ],
   "source": [
    "\"\"\"The codeup staff tends to get upset when the student break area is \n",
    "not cleaned up. Suppose that there's a 3% chance that any one student \n",
    "cleans the break area when they visit it, and, on any given day, about \n",
    "90% of the 3 active cohorts of 22 students visit the break area. How \n",
    "likely is it that the break area gets cleaned up each day? How likely \n",
    "is it that it goes two days without getting cleaned up? All week?\"\"\"\n",
    "\n",
    "def gets_cleaned(days, clean=True):\n",
    "\n",
    "    students = .9*3*22\n",
    "    visits = students * days\n",
    "    if clean:\n",
    "        return stats.binom(visits, .03).sf(.99)\n",
    "    else:\n",
    "        return stats.binom(visits, .03).cdf(.99)\n",
    "    \n",
    "    \n",
    "print(gets_cleaned(1))\n",
    "print(gets_cleaned(1, clean=False))\n",
    "print(gets_cleaned(2, clean=False))\n",
    "print(gets_cleaned(5, clean=False))\n",
    "\n",
    "\n"
   ]
  },
  {
   "cell_type": "code",
   "execution_count": 95,
   "id": "db88d0b3",
   "metadata": {},
   "outputs": [
    {
     "name": "stdout",
     "output_type": "stream",
     "text": [
      "at least 15 min to eat: 74.75%\n"
     ]
    }
   ],
   "source": [
    "\"\"\"You want to get lunch at La Panaderia, but notice that the line is \n",
    "usually very long at lunchtime. After several weeks of careful \n",
    "observation, you notice that the average number of people in line when \n",
    "your lunch break starts is normally distributed with a mean of 15 and \n",
    "standard deviation of 3. If it takes 2 minutes for each person to order,\n",
    "and 10 minutes from ordering to getting your food, what is the \n",
    "likelihood that you have at least 15 minutes left to eat your food \n",
    "before you have to go back to class? Assume you have one hour for lunch,\n",
    "and ignore travel time to and from La Panaderia.\"\"\"\n",
    "\n",
    "actual_time =35 \n",
    "max_ppl = 35 // 2\n",
    "\n",
    "\n",
    "print(f'at least 15 min to eat: {round(stats.norm(15, 3).cdf(17)*100, 2)}%')\n"
   ]
  },
  {
   "cell_type": "code",
   "execution_count": 123,
   "id": "6c162b1c",
   "metadata": {},
   "outputs": [
    {
     "name": "stdout",
     "output_type": "stream",
     "text": [
      "average salary: 72012.24\n",
      "std deviation: 17310.0\n",
      "\n",
      "modeled < 60000: 24.39%\n",
      "actual < 60000: 27.06%\n",
      "\n",
      "modeled > 95000: 9.21%\n",
      "actual > 95000: 10.86%\n",
      "\n",
      "modeled 65000 < n < 80000: 34.0%\n",
      "actual 65000 < n < 80000: 32.51%\n",
      "\n",
      "modeled top 5%: 100484.64\n",
      "actual top 5%: 104225.85\n"
     ]
    }
   ],
   "source": [
    "\"\"\"Connect to the employees database and find the average salary of \n",
    "current employees, along with the standard deviation. For the \n",
    "following questions, calculate the answer based on modeling the \n",
    "employees salaries with a normal distribution defined by the \n",
    "calculated mean and standard deviation then compare this answer to the \n",
    "actual values present in the salaries dataset.\"\"\"\n",
    "\n",
    "def to_two(num):\n",
    "    num = round(num,2)\n",
    "    return num\n",
    "\n",
    "# What percent of employees earn less than 60,000?\n",
    "url = get_db_url('employees')\n",
    "sql = \"\"\"\n",
    "\n",
    "SELECT salary\n",
    "FROM salaries\n",
    "WHERE to_date > NOW()\n",
    "\n",
    "\"\"\"\n",
    "salaries_data = pd.read_sql(sql, url)\n",
    "\n",
    "average_salary = salaries_data.salary.mean()\n",
    "std_dev = salaries_data.salary.std()\n",
    "print(f'average salary: {to_two(average_salary)}')\n",
    "print(f'std deviation: {to_two(std_dev)}')\n",
    "\n",
    "print()\n",
    "modeled_salaries = stats.norm(average_salary, std_dev)\n",
    "print(f'modeled < 60000: {to_two(modeled_salaries.cdf(60000)*100)}%')\n",
    "print(f'actual < 60000: {to_two((salaries_data.salary < 60000).mean()*100)}%')\n",
    "\n",
    "\n",
    "# What percent of employees earn more than 95,000?\n",
    "print()\n",
    "print(f'modeled > 95000: {to_two(modeled_salaries.sf(95000)*100)}%')\n",
    "print(f'actual > 95000: {to_two((salaries_data.salary > 95000).mean()*100)}%')\n",
    "\n",
    "# What percent of employees earn between 65,000 and 80,000?\n",
    "print()\n",
    "print(f'modeled 65000 < n < 80000: {to_two(modeled_salaries.sf(65000) - modeled_salaries.sf(80000))*100}%')\n",
    "print(f'actual 65000 < n < 80000: {to_two(((salaries_data.salary > 65000) & (salaries_data.salary < 80000)).mean()*100)}%')\n",
    "\n",
    "\n",
    "# What do the top 5% of employees make?\n",
    "print()\n",
    "print(f'modeled top 5%: {to_two(modeled_salaries.ppf(.95))}')\n",
    "print(f'actual top 5%: {to_two(salaries_data.salary.quantile(.95))}')"
   ]
  },
  {
   "cell_type": "code",
   "execution_count": null,
   "id": "7226baa1",
   "metadata": {},
   "outputs": [],
   "source": []
  }
 ],
 "metadata": {
  "kernelspec": {
   "display_name": "Python 3 (ipykernel)",
   "language": "python",
   "name": "python3"
  },
  "language_info": {
   "codemirror_mode": {
    "name": "ipython",
    "version": 3
   },
   "file_extension": ".py",
   "mimetype": "text/x-python",
   "name": "python",
   "nbconvert_exporter": "python",
   "pygments_lexer": "ipython3",
   "version": "3.9.7"
  }
 },
 "nbformat": 4,
 "nbformat_minor": 5
}
